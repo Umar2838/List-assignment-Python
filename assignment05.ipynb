{
 "cells": [
  {
   "cell_type": "markdown",
   "id": "8105e8ed-6ab0-4d5a-8cd9-1e33724ac582",
   "metadata": {},
   "source": [
    "Question no 01"
   ]
  },
  {
   "cell_type": "code",
   "execution_count": 13,
   "id": "bbdb14cd-6252-425e-87bd-7ef953231d44",
   "metadata": {},
   "outputs": [
    {
     "name": "stdin",
     "output_type": "stream",
     "text": [
      "Enter a list seperate with spaces 1 2 3 4 5 6 7 8 9 0\n"
     ]
    },
    {
     "name": "stdout",
     "output_type": "stream",
     "text": [
      "1\n",
      "3\n",
      "5\n",
      "7\n",
      "9\n"
     ]
    }
   ],
   "source": [
    "userInp = input(\"Enter a list seperate with spaces\")\n",
    "list = userInp.split(\" \")\n",
    "for i in range(0,len(list),2):\n",
    "    print(list[i])"
   ]
  },
  {
   "cell_type": "markdown",
   "id": "e4b3fd7e-c7b8-4091-860b-d78b97334565",
   "metadata": {},
   "source": [
    "Question no 02"
   ]
  },
  {
   "cell_type": "code",
   "execution_count": 17,
   "id": "575bcaef-e92a-4583-a9fd-22b2cd924b31",
   "metadata": {},
   "outputs": [
    {
     "name": "stdin",
     "output_type": "stream",
     "text": [
      "Enter a list seperate with spaces 1 2 3 4 5\n"
     ]
    },
    {
     "name": "stdout",
     "output_type": "stream",
     "text": [
      "['5', '4', '3', '2', '1']\n"
     ]
    }
   ],
   "source": [
    "userInp = input(\"Enter a list seperate with spaces\")\n",
    "list = userInp.split(\" \")\n",
    "print(list[::-1])"
   ]
  },
  {
   "cell_type": "markdown",
   "id": "6513063c-b9f9-42ee-a3bf-4bd56eed0aa2",
   "metadata": {},
   "source": [
    "Question no 03"
   ]
  },
  {
   "cell_type": "code",
   "execution_count": 35,
   "id": "311069b2-99a8-4875-95e6-170e502abd56",
   "metadata": {},
   "outputs": [
    {
     "name": "stdin",
     "output_type": "stream",
     "text": [
      "Enter a list seperate with spaces 1 2 3 4 8 9 5\n"
     ]
    },
    {
     "name": "stdout",
     "output_type": "stream",
     "text": [
      "9\n"
     ]
    }
   ],
   "source": [
    "userInp = input(\"Enter a list seperate with spaces\")\n",
    "list = userInp.split(\" \")\n",
    "largest = list[0]\n",
    "for i in list:\n",
    "    if(i > largest):\n",
    "        largest = i\n",
    "print(largest)        "
   ]
  },
  {
   "cell_type": "markdown",
   "id": "22ae5b7c-bc40-4fec-8429-980c3c98ca34",
   "metadata": {},
   "source": [
    "Question no 04"
   ]
  },
  {
   "cell_type": "code",
   "execution_count": 84,
   "id": "df697d57-9e32-4365-a9e7-6b985c9e9ab5",
   "metadata": {},
   "outputs": [
    {
     "name": "stdin",
     "output_type": "stream",
     "text": [
      "Enter a list of elements separated by spaces:  1 2 3 4 5\n"
     ]
    },
    {
     "name": "stdout",
     "output_type": "stream",
     "text": [
      "['5', '1', '2', '3', '4']\n"
     ]
    }
   ],
   "source": [
    "userInp = input(\"Enter a list of elements separated by spaces: \")\n",
    "list_elements = userInp.split(\" \")\n",
    "rotate = []\n",
    "for i in list_elements:\n",
    "    rotate = [list_elements[-1]] + list_elements[:-1]\n",
    "print(rotate)\n"
   ]
  },
  {
   "cell_type": "markdown",
   "id": "82727d98-3b7a-4542-8116-68bffd7ef103",
   "metadata": {},
   "source": [
    "Question no 05"
   ]
  },
  {
   "cell_type": "code",
   "execution_count": 92,
   "id": "5b4d12ed-f18c-4451-b268-2cc627b3fb5f",
   "metadata": {},
   "outputs": [
    {
     "name": "stdin",
     "output_type": "stream",
     "text": [
      "Enter the string:  my name is umar\n",
      "Enter the word you want to delete:  name\n"
     ]
    },
    {
     "name": "stdout",
     "output_type": "stream",
     "text": [
      "The string after deleting the word is: my is umar\n"
     ]
    }
   ],
   "source": [
    "userInp = input(\"Enter the string: \")\n",
    "deleteInp = input(\"Enter the word you want to delete: \")\n",
    "words_list = userInp.split()\n",
    "result_list = [word for word in words_list if word != deleteInp]\n",
    "\n",
    "result_string = ' '.join(result_list)\n",
    "\n",
    "print(\"The string after deleting the word is:\", result_string)\n"
   ]
  },
  {
   "cell_type": "markdown",
   "id": "1b02a649-6f14-41c0-af8d-914651e6179e",
   "metadata": {},
   "source": [
    "Question no 06"
   ]
  },
  {
   "cell_type": "code",
   "execution_count": 47,
   "id": "03ca1f2a-f89b-4af1-a096-a0dd3053e00e",
   "metadata": {},
   "outputs": [
    {
     "name": "stdin",
     "output_type": "stream",
     "text": [
      "Enter the date in the mm/dd/yyyy format 11/09/2004\n"
     ]
    },
    {
     "name": "stdout",
     "output_type": "stream",
     "text": [
      "October 11 , 2004\n"
     ]
    }
   ],
   "source": [
    "userInp = input(\"Enter the date in the mm/dd/yyyy format\")\n",
    "list = ['January','February','March','April','May','June','July','August','September','October','November','December']\n",
    "month = int(userInp[4])\n",
    "date = int(userInp[:2])\n",
    "year = int(userInp[6:])\n",
    "print(list[month],date,\",\",year)"
   ]
  },
  {
   "cell_type": "markdown",
   "id": "9452cbe0-2577-43f9-b853-db9edf29cd6b",
   "metadata": {},
   "source": [
    "Question no 07"
   ]
  },
  {
   "cell_type": "code",
   "execution_count": 55,
   "id": "6a190190-ee0e-4ea3-8c8f-6214c9a33f64",
   "metadata": {},
   "outputs": [
    {
     "name": "stdout",
     "output_type": "stream",
     "text": [
      "Stop And Smell The Roses.\n"
     ]
    }
   ],
   "source": [
    "def capitalize_words(string):\n",
    "    words = string.split()\n",
    "    capitalized_words = [word.capitalize() for word in words]\n",
    "    return ' '.join(capitalized_words)\n",
    "    \n",
    "input_string = \"stop and smell the roses.\"\n",
    "output_string = capitalize_words(input_string)\n",
    "print(output_string) \n",
    "        "
   ]
  },
  {
   "cell_type": "code",
   "execution_count": null,
   "id": "60702768-6574-4adc-8610-84a8a76c52dc",
   "metadata": {},
   "outputs": [],
   "source": [
    "Question no 08"
   ]
  }
 ],
 "metadata": {
  "kernelspec": {
   "display_name": "Python 3 (ipykernel)",
   "language": "python",
   "name": "python3"
  },
  "language_info": {
   "codemirror_mode": {
    "name": "ipython",
    "version": 3
   },
   "file_extension": ".py",
   "mimetype": "text/x-python",
   "name": "python",
   "nbconvert_exporter": "python",
   "pygments_lexer": "ipython3",
   "version": "3.11.7"
  }
 },
 "nbformat": 4,
 "nbformat_minor": 5
}
